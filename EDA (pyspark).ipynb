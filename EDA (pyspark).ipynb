{
 "cells": [
  {
   "cell_type": "code",
   "execution_count": 1,
   "metadata": {},
   "outputs": [],
   "source": [
    "import pandas as pd\n",
    "\n",
    "from pyspark.sql import SparkSession\n",
    "from pyspark.sql import Row\n",
    "\n",
    "from pyspark.ml.feature import StringIndexer"
   ]
  },
  {
   "cell_type": "code",
   "execution_count": 2,
   "metadata": {},
   "outputs": [],
   "source": [
    "rdd = sc.textFile('projeto4_telecom_treino.csv')"
   ]
  },
  {
   "cell_type": "code",
   "execution_count": 3,
   "metadata": {},
   "outputs": [
    {
     "data": {
      "text/plain": [
       "['\"\",\"state\",\"account_length\",\"area_code\",\"international_plan\",\"voice_mail_plan\",\"number_vmail_messages\",\"total_day_minutes\",\"total_day_calls\",\"total_day_charge\",\"total_eve_minutes\",\"total_eve_calls\",\"total_eve_charge\",\"total_night_minutes\",\"total_night_calls\",\"total_night_charge\",\"total_intl_minutes\",\"total_intl_calls\",\"total_intl_charge\",\"number_customer_service_calls\",\"churn\"',\n",
       " '\"1\",\"KS\",128,\"area_code_415\",\"no\",\"yes\",25,265.1,110,45.07,197.4,99,16.78,244.7,91,11.01,10,3,2.7,1,\"no\"']"
      ]
     },
     "execution_count": 3,
     "metadata": {},
     "output_type": "execute_result"
    }
   ],
   "source": [
    "rdd.take(2)"
   ]
  },
  {
   "cell_type": "code",
   "execution_count": 4,
   "metadata": {},
   "outputs": [],
   "source": [
    "# QUando uisar tem que remover a primeira posicao\n",
    "first = rdd.first()"
   ]
  },
  {
   "cell_type": "code",
   "execution_count": 5,
   "metadata": {},
   "outputs": [],
   "source": [
    "header = first.split(',')[1:]"
   ]
  },
  {
   "cell_type": "code",
   "execution_count": 6,
   "metadata": {},
   "outputs": [
    {
     "data": {
      "text/plain": [
       "['\"1\",\"KS\",128,\"area_code_415\",\"no\",\"yes\",25,265.1,110,45.07,197.4,99,16.78,244.7,91,11.01,10,3,2.7,1,\"no\"',\n",
       " '\"2\",\"OH\",107,\"area_code_415\",\"no\",\"yes\",26,161.6,123,27.47,195.5,103,16.62,254.4,103,11.45,13.7,3,3.7,1,\"no\"']"
      ]
     },
     "execution_count": 6,
     "metadata": {},
     "output_type": "execute_result"
    }
   ],
   "source": [
    "rdd2 = rdd.filter(lambda x: first not in x)\n",
    "rdd2.take(2)"
   ]
  },
  {
   "cell_type": "code",
   "execution_count": 7,
   "metadata": {},
   "outputs": [
    {
     "data": {
      "text/plain": [
       "['\"1\",\"KS\",128,\"area_code_415\",0,1,25,265.1,110,45.07,197.4,99,16.78,244.7,91,11.01,10,3,2.7,1,0',\n",
       " '\"2\",\"OH\",107,\"area_code_415\",0,1,26,161.6,123,27.47,195.5,103,16.62,254.4,103,11.45,13.7,3,3.7,1,0']"
      ]
     },
     "execution_count": 7,
     "metadata": {},
     "output_type": "execute_result"
    }
   ],
   "source": [
    "rdd3 = rdd2.map(lambda x: x.replace('\"yes\"', '1').replace('\"no\"','0'))\n",
    "rdd3.take(2)"
   ]
  },
  {
   "cell_type": "code",
   "execution_count": 8,
   "metadata": {},
   "outputs": [],
   "source": [
    "rdd4 = rdd3.map(lambda x: x.split(',')[1:len(x)])"
   ]
  },
  {
   "cell_type": "code",
   "execution_count": 9,
   "metadata": {
    "scrolled": true
   },
   "outputs": [
    {
     "data": {
      "text/plain": [
       "[['\"KS\"',\n",
       "  '128',\n",
       "  '\"area_code_415\"',\n",
       "  '0',\n",
       "  '1',\n",
       "  '25',\n",
       "  '265.1',\n",
       "  '110',\n",
       "  '45.07',\n",
       "  '197.4',\n",
       "  '99',\n",
       "  '16.78',\n",
       "  '244.7',\n",
       "  '91',\n",
       "  '11.01',\n",
       "  '10',\n",
       "  '3',\n",
       "  '2.7',\n",
       "  '1',\n",
       "  '0'],\n",
       " ['\"OH\"',\n",
       "  '107',\n",
       "  '\"area_code_415\"',\n",
       "  '0',\n",
       "  '1',\n",
       "  '26',\n",
       "  '161.6',\n",
       "  '123',\n",
       "  '27.47',\n",
       "  '195.5',\n",
       "  '103',\n",
       "  '16.62',\n",
       "  '254.4',\n",
       "  '103',\n",
       "  '11.45',\n",
       "  '13.7',\n",
       "  '3',\n",
       "  '3.7',\n",
       "  '1',\n",
       "  '0']]"
      ]
     },
     "execution_count": 9,
     "metadata": {},
     "output_type": "execute_result"
    }
   ],
   "source": [
    "rdd4.take(2)"
   ]
  },
  {
   "cell_type": "code",
   "execution_count": 10,
   "metadata": {},
   "outputs": [],
   "source": [
    "rdd5 = rdd4.map(lambda x: Row(state=x[0],          \n",
    "                              account_length=int(x[1]),     \n",
    "                              area_code=x[2],          \n",
    "                              international_plan=int(x[3]),     \n",
    "                              voice_mail_plan=int(x[4]),    \n",
    "                              number_vmail_messages=int(x[5]),    \n",
    "                              total_day_minutes=float(x[6]),   \n",
    "                              total_day_calls=int(x[7]),    \n",
    "                              total_day_charge=float(x[8]),  \n",
    "                              total_eve_minutes=float(x[9]),   \n",
    "                              total_eve_calls=int(x[10]),   \n",
    "                              total_eve_charge=float(x[11]), \n",
    "                              total_night_minutes=float(x[12]),  \n",
    "                              total_night_calls=int(x[13]),   \n",
    "                              total_night_charge=float(x[14]), \n",
    "                              total_intl_minutes=float(x[15]),  \n",
    "                              total_intl_calls=int(x[16]),   \n",
    "                              total_intl_charge=float(x[17]), \n",
    "                              number_customer_service_calls=int(x[18]),  \n",
    "                              churn=int(x[19])        \n",
    "                             ))"
   ]
  },
  {
   "cell_type": "code",
   "execution_count": 11,
   "metadata": {},
   "outputs": [],
   "source": [
    "# creating SparkSession\n",
    "sps = SparkSession.builder.master('local').appName('customer_churn').config(\"spark.some.config.option\", \"some-value\").getOrCreate()"
   ]
  },
  {
   "cell_type": "code",
   "execution_count": 12,
   "metadata": {
    "scrolled": true
   },
   "outputs": [],
   "source": [
    "df = sps.createDataFrame(rdd5)"
   ]
  },
  {
   "cell_type": "code",
   "execution_count": 13,
   "metadata": {},
   "outputs": [],
   "source": [
    "# Convertendo categorica em numerico\n",
    "indexer = StringIndexer(inputCol=\"area_code\", outputCol=\"area_code_t\")\n",
    "df = indexer.fit(df).transform(df)\n",
    "\n",
    "indexer2 = StringIndexer(inputCol=\"state\", outputCol=\"state_t\")\n",
    "df = indexer2.fit(df).transform(df)"
   ]
  },
  {
   "cell_type": "code",
   "execution_count": 17,
   "metadata": {
    "scrolled": true
   },
   "outputs": [
    {
     "data": {
      "text/html": [
       "<div>\n",
       "<style scoped>\n",
       "    .dataframe tbody tr th:only-of-type {\n",
       "        vertical-align: middle;\n",
       "    }\n",
       "\n",
       "    .dataframe tbody tr th {\n",
       "        vertical-align: top;\n",
       "    }\n",
       "\n",
       "    .dataframe thead th {\n",
       "        text-align: right;\n",
       "    }\n",
       "</style>\n",
       "<table border=\"1\" class=\"dataframe\">\n",
       "  <thead>\n",
       "    <tr style=\"text-align: right;\">\n",
       "      <th></th>\n",
       "      <th>account_length</th>\n",
       "      <th>area_code</th>\n",
       "      <th>churn</th>\n",
       "      <th>international_plan</th>\n",
       "      <th>number_customer_service_calls</th>\n",
       "      <th>number_vmail_messages</th>\n",
       "      <th>state</th>\n",
       "      <th>total_day_calls</th>\n",
       "      <th>total_day_charge</th>\n",
       "      <th>total_day_minutes</th>\n",
       "      <th>...</th>\n",
       "      <th>total_eve_minutes</th>\n",
       "      <th>total_intl_calls</th>\n",
       "      <th>total_intl_charge</th>\n",
       "      <th>total_intl_minutes</th>\n",
       "      <th>total_night_calls</th>\n",
       "      <th>total_night_charge</th>\n",
       "      <th>total_night_minutes</th>\n",
       "      <th>voice_mail_plan</th>\n",
       "      <th>area_code_t</th>\n",
       "      <th>state_t</th>\n",
       "    </tr>\n",
       "  </thead>\n",
       "  <tbody>\n",
       "    <tr>\n",
       "      <th>0</th>\n",
       "      <td>128</td>\n",
       "      <td>\"area_code_415\"</td>\n",
       "      <td>0</td>\n",
       "      <td>0</td>\n",
       "      <td>1</td>\n",
       "      <td>25</td>\n",
       "      <td>\"KS\"</td>\n",
       "      <td>110</td>\n",
       "      <td>45.07</td>\n",
       "      <td>265.1</td>\n",
       "      <td>...</td>\n",
       "      <td>197.4</td>\n",
       "      <td>3</td>\n",
       "      <td>2.70</td>\n",
       "      <td>10.0</td>\n",
       "      <td>91</td>\n",
       "      <td>11.01</td>\n",
       "      <td>244.7</td>\n",
       "      <td>1</td>\n",
       "      <td>0.0</td>\n",
       "      <td>17.0</td>\n",
       "    </tr>\n",
       "    <tr>\n",
       "      <th>1</th>\n",
       "      <td>107</td>\n",
       "      <td>\"area_code_415\"</td>\n",
       "      <td>0</td>\n",
       "      <td>0</td>\n",
       "      <td>1</td>\n",
       "      <td>26</td>\n",
       "      <td>\"OH\"</td>\n",
       "      <td>123</td>\n",
       "      <td>27.47</td>\n",
       "      <td>161.6</td>\n",
       "      <td>...</td>\n",
       "      <td>195.5</td>\n",
       "      <td>3</td>\n",
       "      <td>3.70</td>\n",
       "      <td>13.7</td>\n",
       "      <td>103</td>\n",
       "      <td>11.45</td>\n",
       "      <td>254.4</td>\n",
       "      <td>1</td>\n",
       "      <td>0.0</td>\n",
       "      <td>5.0</td>\n",
       "    </tr>\n",
       "    <tr>\n",
       "      <th>2</th>\n",
       "      <td>137</td>\n",
       "      <td>\"area_code_415\"</td>\n",
       "      <td>0</td>\n",
       "      <td>0</td>\n",
       "      <td>0</td>\n",
       "      <td>0</td>\n",
       "      <td>\"NJ\"</td>\n",
       "      <td>114</td>\n",
       "      <td>41.38</td>\n",
       "      <td>243.4</td>\n",
       "      <td>...</td>\n",
       "      <td>121.2</td>\n",
       "      <td>5</td>\n",
       "      <td>3.29</td>\n",
       "      <td>12.2</td>\n",
       "      <td>104</td>\n",
       "      <td>7.32</td>\n",
       "      <td>162.6</td>\n",
       "      <td>0</td>\n",
       "      <td>0.0</td>\n",
       "      <td>19.0</td>\n",
       "    </tr>\n",
       "    <tr>\n",
       "      <th>3</th>\n",
       "      <td>84</td>\n",
       "      <td>\"area_code_408\"</td>\n",
       "      <td>0</td>\n",
       "      <td>1</td>\n",
       "      <td>2</td>\n",
       "      <td>0</td>\n",
       "      <td>\"OH\"</td>\n",
       "      <td>71</td>\n",
       "      <td>50.90</td>\n",
       "      <td>299.4</td>\n",
       "      <td>...</td>\n",
       "      <td>61.9</td>\n",
       "      <td>7</td>\n",
       "      <td>1.78</td>\n",
       "      <td>6.6</td>\n",
       "      <td>89</td>\n",
       "      <td>8.86</td>\n",
       "      <td>196.9</td>\n",
       "      <td>0</td>\n",
       "      <td>2.0</td>\n",
       "      <td>5.0</td>\n",
       "    </tr>\n",
       "    <tr>\n",
       "      <th>4</th>\n",
       "      <td>75</td>\n",
       "      <td>\"area_code_415\"</td>\n",
       "      <td>0</td>\n",
       "      <td>1</td>\n",
       "      <td>3</td>\n",
       "      <td>0</td>\n",
       "      <td>\"OK\"</td>\n",
       "      <td>113</td>\n",
       "      <td>28.34</td>\n",
       "      <td>166.7</td>\n",
       "      <td>...</td>\n",
       "      <td>148.3</td>\n",
       "      <td>3</td>\n",
       "      <td>2.73</td>\n",
       "      <td>10.1</td>\n",
       "      <td>121</td>\n",
       "      <td>8.41</td>\n",
       "      <td>186.9</td>\n",
       "      <td>0</td>\n",
       "      <td>0.0</td>\n",
       "      <td>34.0</td>\n",
       "    </tr>\n",
       "  </tbody>\n",
       "</table>\n",
       "<p>5 rows × 22 columns</p>\n",
       "</div>"
      ],
      "text/plain": [
       "   account_length        area_code  churn  international_plan  \\\n",
       "0             128  \"area_code_415\"      0                   0   \n",
       "1             107  \"area_code_415\"      0                   0   \n",
       "2             137  \"area_code_415\"      0                   0   \n",
       "3              84  \"area_code_408\"      0                   1   \n",
       "4              75  \"area_code_415\"      0                   1   \n",
       "\n",
       "   number_customer_service_calls  number_vmail_messages state  \\\n",
       "0                              1                     25  \"KS\"   \n",
       "1                              1                     26  \"OH\"   \n",
       "2                              0                      0  \"NJ\"   \n",
       "3                              2                      0  \"OH\"   \n",
       "4                              3                      0  \"OK\"   \n",
       "\n",
       "   total_day_calls  total_day_charge  total_day_minutes   ...     \\\n",
       "0              110             45.07              265.1   ...      \n",
       "1              123             27.47              161.6   ...      \n",
       "2              114             41.38              243.4   ...      \n",
       "3               71             50.90              299.4   ...      \n",
       "4              113             28.34              166.7   ...      \n",
       "\n",
       "   total_eve_minutes  total_intl_calls  total_intl_charge  total_intl_minutes  \\\n",
       "0              197.4                 3               2.70                10.0   \n",
       "1              195.5                 3               3.70                13.7   \n",
       "2              121.2                 5               3.29                12.2   \n",
       "3               61.9                 7               1.78                 6.6   \n",
       "4              148.3                 3               2.73                10.1   \n",
       "\n",
       "   total_night_calls  total_night_charge  total_night_minutes  \\\n",
       "0                 91               11.01                244.7   \n",
       "1                103               11.45                254.4   \n",
       "2                104                7.32                162.6   \n",
       "3                 89                8.86                196.9   \n",
       "4                121                8.41                186.9   \n",
       "\n",
       "   voice_mail_plan  area_code_t  state_t  \n",
       "0                1          0.0     17.0  \n",
       "1                1          0.0      5.0  \n",
       "2                0          0.0     19.0  \n",
       "3                0          2.0      5.0  \n",
       "4                0          0.0     34.0  \n",
       "\n",
       "[5 rows x 22 columns]"
      ]
     },
     "execution_count": 17,
     "metadata": {},
     "output_type": "execute_result"
    }
   ],
   "source": [
    "df.limit(5).toPandas()"
   ]
  },
  {
   "cell_type": "code",
   "execution_count": 21,
   "metadata": {},
   "outputs": [
    {
     "data": {
      "text/plain": [
       "['account_length',\n",
       " 'area_code',\n",
       " 'churn',\n",
       " 'international_plan',\n",
       " 'number_customer_service_calls',\n",
       " 'number_vmail_messages',\n",
       " 'state',\n",
       " 'total_day_calls',\n",
       " 'total_day_charge',\n",
       " 'total_day_minutes',\n",
       " 'total_eve_calls',\n",
       " 'total_eve_charge',\n",
       " 'total_eve_minutes',\n",
       " 'total_intl_calls',\n",
       " 'total_intl_charge',\n",
       " 'total_intl_minutes',\n",
       " 'total_night_calls',\n",
       " 'total_night_charge',\n",
       " 'total_night_minutes',\n",
       " 'voice_mail_plan',\n",
       " 'area_code_t',\n",
       " 'state_t']"
      ]
     },
     "execution_count": 21,
     "metadata": {},
     "output_type": "execute_result"
    }
   ],
   "source": [
    "df.columns"
   ]
  },
  {
   "cell_type": "markdown",
   "metadata": {},
   "source": [
    "## Describe nos totais"
   ]
  },
  {
   "cell_type": "code",
   "execution_count": 22,
   "metadata": {},
   "outputs": [
    {
     "name": "stdout",
     "output_type": "stream",
     "text": [
      "+-------+------------------+-----------------+-------------------+------------------+\n",
      "|summary| total_day_minutes|total_eve_minutes|total_night_minutes|total_intl_minutes|\n",
      "+-------+------------------+-----------------+-------------------+------------------+\n",
      "|  count|              3333|             3333|               3333|              3333|\n",
      "|   mean|179.77509750975088|200.9803480348034| 200.87203720372082|10.237293729372928|\n",
      "| stddev|  54.4673892023714|  50.713844425812|  50.57384701365836|2.7918395484084138|\n",
      "|    min|               0.0|              0.0|               23.2|               0.0|\n",
      "|    max|             350.8|            363.7|              395.0|              20.0|\n",
      "+-------+------------------+-----------------+-------------------+------------------+\n",
      "\n"
     ]
    }
   ],
   "source": [
    "# total minutes\n",
    "df.describe('total_day_minutes','total_eve_minutes','total_night_minutes','total_intl_minutes').show()"
   ]
  },
  {
   "cell_type": "code",
   "execution_count": 23,
   "metadata": {},
   "outputs": [
    {
     "name": "stdout",
     "output_type": "stream",
     "text": [
      "+-------+------------------+------------------+------------------+------------------+\n",
      "|summary|   total_day_calls|   total_eve_calls| total_night_calls|  total_intl_calls|\n",
      "+-------+------------------+------------------+------------------+------------------+\n",
      "|  count|              3333|              3333|              3333|              3333|\n",
      "|   mean|100.43564356435644|100.11431143114311|100.10771077107711|4.4794479447944795|\n",
      "| stddev|20.069084207300907|19.922625293943103|19.568609346058555|2.4612142705460935|\n",
      "|    min|                 0|                 0|                33|                 0|\n",
      "|    max|               165|               170|               175|                20|\n",
      "+-------+------------------+------------------+------------------+------------------+\n",
      "\n"
     ]
    }
   ],
   "source": [
    "# total calls\n",
    "df.describe('total_day_calls','total_eve_calls','total_night_calls','total_intl_calls').show()"
   ]
  },
  {
   "cell_type": "code",
   "execution_count": 24,
   "metadata": {},
   "outputs": [
    {
     "name": "stdout",
     "output_type": "stream",
     "text": [
      "+-------+------------------+------------------+------------------+------------------+\n",
      "|summary|  total_day_charge|  total_eve_charge|total_night_charge| total_intl_charge|\n",
      "+-------+------------------+------------------+------------------+------------------+\n",
      "|  count|              3333|              3333|              3333|              3333|\n",
      "|   mean|30.562307230723054|17.083540354035424|  9.03932493249324| 2.764581458145822|\n",
      "| stddev| 9.259434553930506|4.3106676431103415| 2.275872837660028|0.7537726126630463|\n",
      "|    min|               0.0|               0.0|              1.04|               0.0|\n",
      "|    max|             59.64|             30.91|             17.77|               5.4|\n",
      "+-------+------------------+------------------+------------------+------------------+\n",
      "\n"
     ]
    }
   ],
   "source": [
    "# total charge\n",
    "df.describe('total_day_charge','total_eve_charge','total_night_charge','total_intl_charge').show()"
   ]
  },
  {
   "cell_type": "markdown",
   "metadata": {},
   "source": [
    "## Describe nas numericas"
   ]
  },
  {
   "cell_type": "code",
   "execution_count": 25,
   "metadata": {},
   "outputs": [
    {
     "name": "stdout",
     "output_type": "stream",
     "text": [
      "+-------+------------------+-----------------------------+---------------------+\n",
      "|summary|    account_length|number_customer_service_calls|number_vmail_messages|\n",
      "+-------+------------------+-----------------------------+---------------------+\n",
      "|  count|              3333|                         3333|                 3333|\n",
      "|   mean|101.06480648064806|           1.5628562856285628|    8.099009900990099|\n",
      "| stddev| 39.82210592859562|           1.3154910448664763|   13.688365372038595|\n",
      "|    min|                 1|                            0|                    0|\n",
      "|    max|               243|                            9|                   51|\n",
      "+-------+------------------+-----------------------------+---------------------+\n",
      "\n"
     ]
    }
   ],
   "source": [
    "df.describe('account_length','number_customer_service_calls','number_vmail_messages').show()"
   ]
  },
  {
   "cell_type": "markdown",
   "metadata": {},
   "source": [
    "## Count nas categoricas\n",
    "\n",
    "Churn: yes ---> Cliente não quer mais a empresa"
   ]
  },
  {
   "cell_type": "code",
   "execution_count": 27,
   "metadata": {
    "scrolled": false
   },
   "outputs": [
    {
     "name": "stdout",
     "output_type": "stream",
     "text": [
      "+------------------+-----+\n",
      "|international_plan|count|\n",
      "+------------------+-----+\n",
      "|                 0| 3010|\n",
      "|                 1|  323|\n",
      "+------------------+-----+\n",
      "\n",
      "+---------------+-----+\n",
      "|voice_mail_plan|count|\n",
      "+---------------+-----+\n",
      "|              0| 2411|\n",
      "|              1|  922|\n",
      "+---------------+-----+\n",
      "\n",
      "+---------------+-----+\n",
      "|      area_code|count|\n",
      "+---------------+-----+\n",
      "|\"area_code_415\"| 1655|\n",
      "|\"area_code_510\"|  840|\n",
      "|\"area_code_408\"|  838|\n",
      "+---------------+-----+\n",
      "\n",
      "+-----+-----+\n",
      "|state|count|\n",
      "+-----+-----+\n",
      "| \"WV\"|  106|\n",
      "| \"MN\"|   84|\n",
      "| \"NY\"|   83|\n",
      "| \"AL\"|   80|\n",
      "| \"OR\"|   78|\n",
      "+-----+-----+\n",
      "only showing top 5 rows\n",
      "\n",
      "+-----+-----+\n",
      "|churn|count|\n",
      "+-----+-----+\n",
      "|    0| 2850|\n",
      "|    1|  483|\n",
      "+-----+-----+\n",
      "\n"
     ]
    }
   ],
   "source": [
    "for cat_col in df.select('international_plan','voice_mail_plan','area_code','state', 'churn'):\n",
    "    df.groupBy(cat_col).count().orderBy('count', ascending=0).show(5)"
   ]
  },
  {
   "cell_type": "code",
   "execution_count": null,
   "metadata": {},
   "outputs": [],
   "source": [
    "tps = [\n",
    "    ('account_length', 'num'),\n",
    "    ('churn', 'cat'),\n",
    "    ('international_plan', 'cat'),\n",
    "    ('num', 'bigint'),\n",
    "    ('number_vmail_messages', 'num'),\n",
    "    ('total_day_calls', 'num'),\n",
    "    ('total_day_charge', 'num'),\n",
    "    ('total_day_minutes', 'num'),\n",
    "    ('total_eve_calls', 'num'),\n",
    "    ('total_eve_charge', 'num'),\n",
    "    ('total_eve_minutes', 'num'),\n",
    "    ('total_intl_calls', 'num'),\n",
    "    ('total_intl_charge', 'num'),\n",
    "    ('total_intl_minutes', 'num'),\n",
    "    ('total_night_calls', 'num'),\n",
    "    ('total_night_charge', 'num'),\n",
    "    ('total_night_minutes', 'num'),\n",
    "    ('voice_mail_plan', 'cat'),\n",
    "    ('area_code_t', 'cat'),\n",
    "    ('state_t', 'cat')\n",
    "]"
   ]
  },
  {
   "cell_type": "code",
   "execution_count": 29,
   "metadata": {},
   "outputs": [
    {
     "name": "stdout",
     "output_type": "stream",
     "text": [
      "+--------------+---------------+-----+------------------+-----------------------------+---------------------+-----+---------------+----------------+-----------------+---------------+----------------+-----------------+----------------+-----------------+------------------+-----------------+------------------+-------------------+---------------+-----------+-------+\n",
      "|account_length|      area_code|churn|international_plan|number_customer_service_calls|number_vmail_messages|state|total_day_calls|total_day_charge|total_day_minutes|total_eve_calls|total_eve_charge|total_eve_minutes|total_intl_calls|total_intl_charge|total_intl_minutes|total_night_calls|total_night_charge|total_night_minutes|voice_mail_plan|area_code_t|state_t|\n",
      "+--------------+---------------+-----+------------------+-----------------------------+---------------------+-----+---------------+----------------+-----------------+---------------+----------------+-----------------+----------------+-----------------+------------------+-----------------+------------------+-------------------+---------------+-----------+-------+\n",
      "|           128|\"area_code_415\"|    0|                 0|                            1|                   25| \"KS\"|            110|           45.07|            265.1|             99|           16.78|            197.4|               3|              2.7|              10.0|               91|             11.01|              244.7|              1|        0.0|   17.0|\n",
      "|           107|\"area_code_415\"|    0|                 0|                            1|                   26| \"OH\"|            123|           27.47|            161.6|            103|           16.62|            195.5|               3|              3.7|              13.7|              103|             11.45|              254.4|              1|        0.0|    5.0|\n",
      "|           137|\"area_code_415\"|    0|                 0|                            0|                    0| \"NJ\"|            114|           41.38|            243.4|            110|            10.3|            121.2|               5|             3.29|              12.2|              104|              7.32|              162.6|              0|        0.0|   19.0|\n",
      "|            84|\"area_code_408\"|    0|                 1|                            2|                    0| \"OH\"|             71|            50.9|            299.4|             88|            5.26|             61.9|               7|             1.78|               6.6|               89|              8.86|              196.9|              0|        2.0|    5.0|\n",
      "|            75|\"area_code_415\"|    0|                 1|                            3|                    0| \"OK\"|            113|           28.34|            166.7|            122|           12.61|            148.3|               3|             2.73|              10.1|              121|              8.41|              186.9|              0|        0.0|   34.0|\n",
      "|           118|\"area_code_510\"|    0|                 1|                            0|                    0| \"AL\"|             98|           37.98|            223.4|            101|           18.75|            220.6|               6|              1.7|               6.3|              118|              9.18|              203.9|              0|        1.0|    3.0|\n",
      "|           121|\"area_code_510\"|    0|                 0|                            3|                   24| \"MA\"|             88|           37.09|            218.2|            108|           29.62|            348.5|               7|             2.03|               7.5|              118|              9.57|              212.6|              1|        1.0|   25.0|\n",
      "|           147|\"area_code_415\"|    0|                 1|                            0|                    0| \"MO\"|             79|           26.69|            157.0|             94|            8.76|            103.1|               6|             1.92|               7.1|               96|              9.53|              211.8|              0|        0.0|   29.0|\n",
      "|           117|\"area_code_408\"|    0|                 0|                            1|                    0| \"LA\"|             97|           31.37|            184.5|             80|           29.89|            351.6|               4|             2.35|               8.7|               90|              9.71|              215.8|              0|        2.0|   47.0|\n",
      "|           141|\"area_code_415\"|    0|                 1|                            0|                   37| \"WV\"|             84|           43.96|            258.6|            111|           18.87|            222.0|               5|             3.02|              11.2|               97|             14.69|              326.4|              1|        0.0|    0.0|\n",
      "|            65|\"area_code_415\"|    1|                 0|                            4|                    0| \"IN\"|            137|           21.95|            129.1|             83|           19.42|            228.5|               6|             3.43|              12.7|              111|               9.4|              208.8|              0|        0.0|   15.0|\n",
      "|            74|\"area_code_415\"|    0|                 0|                            0|                    0| \"RI\"|            127|           31.91|            187.7|            148|           13.89|            163.4|               5|             2.46|               9.1|               94|              8.82|              196.0|              0|        0.0|   24.0|\n",
      "|           168|\"area_code_408\"|    0|                 0|                            1|                    0| \"IA\"|             96|            21.9|            128.8|             71|            8.92|            104.9|               2|             3.02|              11.2|              128|              6.35|              141.1|              0|        2.0|   49.0|\n",
      "|            95|\"area_code_510\"|    0|                 0|                            3|                    0| \"MT\"|             88|           26.62|            156.6|             75|           21.05|            247.6|               5|             3.32|              12.3|              115|              8.65|              192.3|              0|        1.0|   20.0|\n",
      "|            62|\"area_code_415\"|    0|                 0|                            4|                    0| \"IA\"|             70|           20.52|            120.7|             76|           26.11|            307.2|               6|             3.54|              13.1|               99|              9.14|              203.0|              0|        0.0|   49.0|\n",
      "|           161|\"area_code_415\"|    1|                 0|                            4|                    0| \"NY\"|             67|           56.59|            332.9|             97|           27.01|            317.8|               9|             1.46|               5.4|              128|              7.23|              160.6|              0|        0.0|    2.0|\n",
      "|            85|\"area_code_408\"|    0|                 0|                            1|                   27| \"ID\"|            139|           33.39|            196.4|             90|           23.88|            280.9|               4|             3.73|              13.8|               75|              4.02|               89.3|              1|        2.0|   11.0|\n",
      "|            93|\"area_code_510\"|    0|                 0|                            3|                    0| \"VT\"|            114|           32.42|            190.7|            111|           18.55|            218.2|               3|             2.19|               8.1|              121|              5.83|              129.6|              0|        1.0|   12.0|\n",
      "|            76|\"area_code_510\"|    0|                 0|                            1|                   33| \"VA\"|             66|           32.25|            189.7|             65|           18.09|            212.8|               5|              2.7|              10.0|              108|              7.46|              165.7|              1|        1.0|    8.0|\n",
      "|            73|\"area_code_415\"|    0|                 0|                            1|                    0| \"TX\"|             90|           38.15|            224.4|             88|           13.56|            159.5|               2|             3.51|              13.0|               74|              8.68|              192.8|              0|        0.0|   13.0|\n",
      "+--------------+---------------+-----+------------------+-----------------------------+---------------------+-----+---------------+----------------+-----------------+---------------+----------------+-----------------+----------------+-----------------+------------------+-----------------+------------------+-------------------+---------------+-----------+-------+\n",
      "only showing top 20 rows\n",
      "\n"
     ]
    }
   ],
   "source": [
    "df.show()"
   ]
  }
 ],
 "metadata": {
  "kernelspec": {
   "display_name": "Python 3",
   "language": "python",
   "name": "python3"
  },
  "language_info": {
   "codemirror_mode": {
    "name": "ipython",
    "version": 3
   },
   "file_extension": ".py",
   "mimetype": "text/x-python",
   "name": "python",
   "nbconvert_exporter": "python",
   "pygments_lexer": "ipython3",
   "version": "3.7.0"
  }
 },
 "nbformat": 4,
 "nbformat_minor": 2
}
